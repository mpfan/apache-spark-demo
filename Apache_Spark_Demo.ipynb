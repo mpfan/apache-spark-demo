{
  "nbformat": 4,
  "nbformat_minor": 0,
  "metadata": {
    "colab": {
      "provenance": []
    },
    "kernelspec": {
      "name": "python3",
      "display_name": "Python 3"
    },
    "language_info": {
      "name": "python"
    }
  },
  "cells": [
    {
      "cell_type": "markdown",
      "source": [
        "# Introduction\n",
        "This notebook contains a demo for using Apache Spark. The demo uses an example adapted from the [Tensorflow tutorial](https://www.tensorflow.org/tutorials/keras/regression). The demo showcases the following the modules from PySpark:\n",
        "\n",
        "- PySpark DataFrame and SQL\n",
        "- PySpark MLib"
      ],
      "metadata": {
        "id": "21Qq-WbjOH7B"
      }
    },
    {
      "cell_type": "markdown",
      "source": [
        "# Environment Setup\n"
      ],
      "metadata": {
        "id": "21og7grGWMU3"
      }
    },
    {
      "cell_type": "code",
      "source": [
        "!pip install pyspark"
      ],
      "metadata": {
        "colab": {
          "base_uri": "https://localhost:8080/"
        },
        "id": "lW48FwEYWwzo",
        "outputId": "defd8e17-28d4-4af5-d52d-4360b72e285c"
      },
      "execution_count": null,
      "outputs": [
        {
          "output_type": "stream",
          "name": "stdout",
          "text": [
            "Looking in indexes: https://pypi.org/simple, https://us-python.pkg.dev/colab-wheels/public/simple/\n",
            "Collecting pyspark\n",
            "  Downloading pyspark-3.3.2.tar.gz (281.4 MB)\n",
            "\u001b[2K     \u001b[90m━━━━━━━━━━━━━━━━━━━━━━━━━━━━━━━━━━━━━━━\u001b[0m \u001b[32m281.4/281.4 MB\u001b[0m \u001b[31m4.8 MB/s\u001b[0m eta \u001b[36m0:00:00\u001b[0m\n",
            "\u001b[?25h  Preparing metadata (setup.py) ... \u001b[?25l\u001b[?25hdone\n",
            "Collecting py4j==0.10.9.5\n",
            "  Downloading py4j-0.10.9.5-py2.py3-none-any.whl (199 kB)\n",
            "\u001b[2K     \u001b[90m━━━━━━━━━━━━━━━━━━━━━━━━━━━━━━━━━━━━━━━\u001b[0m \u001b[32m199.7/199.7 KB\u001b[0m \u001b[31m5.9 MB/s\u001b[0m eta \u001b[36m0:00:00\u001b[0m\n",
            "\u001b[?25hBuilding wheels for collected packages: pyspark\n",
            "  Building wheel for pyspark (setup.py) ... \u001b[?25l\u001b[?25hdone\n",
            "  Created wheel for pyspark: filename=pyspark-3.3.2-py2.py3-none-any.whl size=281824025 sha256=3a3463e5740570a4437e13319119bef9e47b64587eb6f61f6ef7781dc7521e28\n",
            "  Stored in directory: /root/.cache/pip/wheels/b1/59/a0/a1a0624b5e865fd389919c1a10f53aec9b12195d6747710baf\n",
            "Successfully built pyspark\n",
            "Installing collected packages: py4j, pyspark\n",
            "Successfully installed py4j-0.10.9.5 pyspark-3.3.2\n"
          ]
        }
      ]
    },
    {
      "cell_type": "markdown",
      "source": [
        "# Dependencies"
      ],
      "metadata": {
        "id": "hW-HtZXYZzJc"
      }
    },
    {
      "cell_type": "code",
      "source": [
        "from pyspark.sql import SparkSession\n",
        "import pyspark.sql.functions as F\n",
        "from pyspark.sql.types import StringType\n",
        "from pyspark.ml.regression import LinearRegression\n",
        "from pyspark.ml.feature import VectorAssembler\n",
        "from pyspark.ml.feature import StringIndexer\n",
        "from pyspark.ml.feature import OneHotEncoder\n",
        "from pyspark.ml.functions import vector_to_array\n",
        "from pyspark.ml.evaluation import RegressionEvaluator\n",
        "\n",
        "import pandas as pd"
      ],
      "metadata": {
        "id": "Ef7Ij7e1YYzQ"
      },
      "execution_count": null,
      "outputs": []
    },
    {
      "cell_type": "markdown",
      "source": [
        "# Linear Regression: Predict fuel efficiency\n"
      ],
      "metadata": {
        "id": "IdhAfpGSaNrQ"
      }
    },
    {
      "cell_type": "markdown",
      "source": [],
      "metadata": {
        "id": "nxtAkrGRODyj"
      }
    },
    {
      "cell_type": "markdown",
      "source": [
        "## Create a Spark Session"
      ],
      "metadata": {
        "id": "mzulTCiFaQ9w"
      }
    },
    {
      "cell_type": "code",
      "source": [
        "# Create a Spark Session\n",
        "spark = SparkSession.builder.appName(\"spark demo\").getOrCreate()\n",
        "# Check Spark Session Information\n",
        "spark"
      ],
      "metadata": {
        "colab": {
          "base_uri": "https://localhost:8080/",
          "height": 219
        },
        "id": "GZMFhZzEYd79",
        "outputId": "b9753a1f-b032-43dc-930c-3cf13bf66e26"
      },
      "execution_count": null,
      "outputs": [
        {
          "output_type": "execute_result",
          "data": {
            "text/plain": [
              "<pyspark.sql.session.SparkSession at 0x7fcbc3f20c10>"
            ],
            "text/html": [
              "\n",
              "            <div>\n",
              "                <p><b>SparkSession - in-memory</b></p>\n",
              "                \n",
              "        <div>\n",
              "            <p><b>SparkContext</b></p>\n",
              "\n",
              "            <p><a href=\"http://d976fb35b3fc:4040\">Spark UI</a></p>\n",
              "\n",
              "            <dl>\n",
              "              <dt>Version</dt>\n",
              "                <dd><code>v3.3.2</code></dd>\n",
              "              <dt>Master</dt>\n",
              "                <dd><code>local[*]</code></dd>\n",
              "              <dt>AppName</dt>\n",
              "                <dd><code>spark demo</code></dd>\n",
              "            </dl>\n",
              "        </div>\n",
              "        \n",
              "            </div>\n",
              "        "
            ]
          },
          "metadata": {},
          "execution_count": 3
        }
      ]
    },
    {
      "cell_type": "markdown",
      "source": [
        "## Load the data"
      ],
      "metadata": {
        "id": "87j7CfhKdw91"
      }
    },
    {
      "cell_type": "code",
      "source": [
        "# Download the data\n",
        "url = 'http://archive.ics.uci.edu/ml/machine-learning-databases/auto-mpg/auto-mpg.data'\n",
        "column_names = ['MPG', 'Cylinders', 'Displacement', 'Horsepower', 'Weight',\n",
        "                'Acceleration', 'Model Year', 'Origin']\n",
        "\n",
        "raw_dataset = pd.read_csv(url, names=column_names,\n",
        "                          na_values='?', comment='\\t',\n",
        "                          sep=' ', skipinitialspace=True)"
      ],
      "metadata": {
        "id": "fSwrvteHaW0o"
      },
      "execution_count": null,
      "outputs": []
    },
    {
      "cell_type": "code",
      "source": [
        "# Convert to Spark DataFrame\n",
        "columns = [F.col(name) for name in column_names]\n",
        "df = spark.createDataFrame(raw_dataset) \n",
        "df.printSchema()\n",
        "df.show()"
      ],
      "metadata": {
        "colab": {
          "base_uri": "https://localhost:8080/"
        },
        "id": "wSWiAbBoEbpS",
        "outputId": "6d2ae7d2-1ceb-4edc-ab6e-3c0d48ea6284"
      },
      "execution_count": null,
      "outputs": [
        {
          "output_type": "stream",
          "name": "stdout",
          "text": [
            "root\n",
            " |-- MPG: double (nullable = true)\n",
            " |-- Cylinders: long (nullable = true)\n",
            " |-- Displacement: double (nullable = true)\n",
            " |-- Horsepower: double (nullable = true)\n",
            " |-- Weight: double (nullable = true)\n",
            " |-- Acceleration: double (nullable = true)\n",
            " |-- Model Year: long (nullable = true)\n",
            " |-- Origin: long (nullable = true)\n",
            "\n",
            "+----+---------+------------+----------+------+------------+----------+------+\n",
            "| MPG|Cylinders|Displacement|Horsepower|Weight|Acceleration|Model Year|Origin|\n",
            "+----+---------+------------+----------+------+------------+----------+------+\n",
            "|18.0|        8|       307.0|     130.0|3504.0|        12.0|        70|     1|\n",
            "|15.0|        8|       350.0|     165.0|3693.0|        11.5|        70|     1|\n",
            "|18.0|        8|       318.0|     150.0|3436.0|        11.0|        70|     1|\n",
            "|16.0|        8|       304.0|     150.0|3433.0|        12.0|        70|     1|\n",
            "|17.0|        8|       302.0|     140.0|3449.0|        10.5|        70|     1|\n",
            "|15.0|        8|       429.0|     198.0|4341.0|        10.0|        70|     1|\n",
            "|14.0|        8|       454.0|     220.0|4354.0|         9.0|        70|     1|\n",
            "|14.0|        8|       440.0|     215.0|4312.0|         8.5|        70|     1|\n",
            "|14.0|        8|       455.0|     225.0|4425.0|        10.0|        70|     1|\n",
            "|15.0|        8|       390.0|     190.0|3850.0|         8.5|        70|     1|\n",
            "|15.0|        8|       383.0|     170.0|3563.0|        10.0|        70|     1|\n",
            "|14.0|        8|       340.0|     160.0|3609.0|         8.0|        70|     1|\n",
            "|15.0|        8|       400.0|     150.0|3761.0|         9.5|        70|     1|\n",
            "|14.0|        8|       455.0|     225.0|3086.0|        10.0|        70|     1|\n",
            "|24.0|        4|       113.0|      95.0|2372.0|        15.0|        70|     3|\n",
            "|22.0|        6|       198.0|      95.0|2833.0|        15.5|        70|     1|\n",
            "|18.0|        6|       199.0|      97.0|2774.0|        15.5|        70|     1|\n",
            "|21.0|        6|       200.0|      85.0|2587.0|        16.0|        70|     1|\n",
            "|27.0|        4|        97.0|      88.0|2130.0|        14.5|        70|     3|\n",
            "|26.0|        4|        97.0|      46.0|1835.0|        20.5|        70|     2|\n",
            "+----+---------+------------+----------+------+------------+----------+------+\n",
            "only showing top 20 rows\n",
            "\n"
          ]
        }
      ]
    },
    {
      "cell_type": "markdown",
      "source": [
        "## Data Preparation"
      ],
      "metadata": {
        "id": "ILjdMO7MeSjX"
      }
    },
    {
      "cell_type": "markdown",
      "source": [
        "First we see that the dataset contain 6 N/A values in Horsepower. We can use he dropna() function of the DataFrame to delete rows that contain N/A value. "
      ],
      "metadata": {
        "id": "LnNce2qafq48"
      }
    },
    {
      "cell_type": "markdown",
      "source": [],
      "metadata": {
        "id": "GjAeHdleeWlG"
      }
    },
    {
      "cell_type": "code",
      "source": [
        "# Uses the Spark SQL module to find out N\\A values\n",
        "df.select([F.count(F.when(F.isnan(c) | F.col(c).isNull(), c)).alias(c) for c in df.columns]\n",
        "   ).show()\n",
        "\n",
        "print(\"# of rows before cleaning: \", df.count())\n",
        "\n",
        "df = df.dropna()\n",
        "\n",
        "print(\"# of rows after cleaning: \", df.count())"
      ],
      "metadata": {
        "colab": {
          "base_uri": "https://localhost:8080/"
        },
        "id": "d5wPn2HLak4N",
        "outputId": "a2e68b27-2104-4f2b-ad55-c1f99aec2e13"
      },
      "execution_count": null,
      "outputs": [
        {
          "output_type": "stream",
          "name": "stdout",
          "text": [
            "+---+---------+------------+----------+------+------------+----------+------+\n",
            "|MPG|Cylinders|Displacement|Horsepower|Weight|Acceleration|Model Year|Origin|\n",
            "+---+---------+------------+----------+------+------------+----------+------+\n",
            "|  0|        0|           0|         6|     0|           0|         0|     0|\n",
            "+---+---------+------------+----------+------+------------+----------+------+\n",
            "\n",
            "# of rows before cleaning:  398\n",
            "# of rows after cleaning:  392\n"
          ]
        }
      ]
    },
    {
      "cell_type": "markdown",
      "source": [
        "After dropping N/A values, we perform one-hot encoding on the Origin column. The current Origin column contains a number ranging from 1-3 with 1 meaning USA, 2 meaning Europe, and 3 meaning Japan. We want to flatten the column by going from \n",
        "\n",
        "Origin | \n",
        "-------|\n",
        " 2     |\n",
        "\n",
        "to\n",
        "\n",
        " USA | Europe | Japen \n",
        "-----|--------|------\n",
        "  0  |   1    |  0   \n",
        "\n",
        "with 1 meaning the car is made in the corresponding region."
      ],
      "metadata": {
        "id": "s1cOGSIGgBf2"
      }
    },
    {
      "cell_type": "code",
      "source": [
        "# Define the transformation function for Origin\n",
        "map = {1: \"USA\", 2: \"Europe\", 3: \"Japan\"}\n",
        "def convertToCategory(code):\n",
        "  return map[code]\n",
        "\n",
        "# Convert function to UDF \n",
        "convertUDF = F.udf(lambda z: convertToCategory(z), StringType())"
      ],
      "metadata": {
        "id": "pPbXWsB0BaNm"
      },
      "execution_count": null,
      "outputs": []
    },
    {
      "cell_type": "code",
      "source": [
        "# Applies the transformation\n",
        "df = df.select(*columns[:-1], convertUDF(F.col(\"Origin\")).alias(\"Origin\"))\n",
        "df.show()"
      ],
      "metadata": {
        "colab": {
          "base_uri": "https://localhost:8080/"
        },
        "id": "r3DuPA11EDSv",
        "outputId": "f7c251da-34c8-45d4-b03e-06b0ffb01618"
      },
      "execution_count": null,
      "outputs": [
        {
          "output_type": "stream",
          "name": "stdout",
          "text": [
            "+----+---------+------------+----------+------+------------+----------+------+\n",
            "| MPG|Cylinders|Displacement|Horsepower|Weight|Acceleration|Model Year|Origin|\n",
            "+----+---------+------------+----------+------+------------+----------+------+\n",
            "|18.0|        8|       307.0|     130.0|3504.0|        12.0|        70|   USA|\n",
            "|15.0|        8|       350.0|     165.0|3693.0|        11.5|        70|   USA|\n",
            "|18.0|        8|       318.0|     150.0|3436.0|        11.0|        70|   USA|\n",
            "|16.0|        8|       304.0|     150.0|3433.0|        12.0|        70|   USA|\n",
            "|17.0|        8|       302.0|     140.0|3449.0|        10.5|        70|   USA|\n",
            "|15.0|        8|       429.0|     198.0|4341.0|        10.0|        70|   USA|\n",
            "|14.0|        8|       454.0|     220.0|4354.0|         9.0|        70|   USA|\n",
            "|14.0|        8|       440.0|     215.0|4312.0|         8.5|        70|   USA|\n",
            "|14.0|        8|       455.0|     225.0|4425.0|        10.0|        70|   USA|\n",
            "|15.0|        8|       390.0|     190.0|3850.0|         8.5|        70|   USA|\n",
            "|15.0|        8|       383.0|     170.0|3563.0|        10.0|        70|   USA|\n",
            "|14.0|        8|       340.0|     160.0|3609.0|         8.0|        70|   USA|\n",
            "|15.0|        8|       400.0|     150.0|3761.0|         9.5|        70|   USA|\n",
            "|14.0|        8|       455.0|     225.0|3086.0|        10.0|        70|   USA|\n",
            "|24.0|        4|       113.0|      95.0|2372.0|        15.0|        70| Japan|\n",
            "|22.0|        6|       198.0|      95.0|2833.0|        15.5|        70|   USA|\n",
            "|18.0|        6|       199.0|      97.0|2774.0|        15.5|        70|   USA|\n",
            "|21.0|        6|       200.0|      85.0|2587.0|        16.0|        70|   USA|\n",
            "|27.0|        4|        97.0|      88.0|2130.0|        14.5|        70| Japan|\n",
            "|26.0|        4|        97.0|      46.0|1835.0|        20.5|        70|Europe|\n",
            "+----+---------+------------+----------+------+------------+----------+------+\n",
            "only showing top 20 rows\n",
            "\n"
          ]
        }
      ]
    },
    {
      "cell_type": "code",
      "source": [
        "# Index the Origin column\n",
        "origin_indexer = StringIndexer(inputCol=\"Origin\", outputCol=\"Origin_Index\")\n",
        "origin_indexer_fitted = origin_indexer.fit(df)\n",
        "df = origin_indexer_fitted.transform(df)\n",
        "df = df.drop(\"Origin\") # Clean up the old column\n",
        "\n",
        "# Applies one-hot encoding. Note the encoding in vector format\n",
        "encoder = OneHotEncoder(inputCols=[\"Origin_Index\"], outputCols=['Origin_OneHot'], dropLast=False)\n",
        "df = encoder.fit(df).transform(df)\n",
        "df = df.drop(\"Origin_Index\") # Clean up the old column\n",
        "df.show()"
      ],
      "metadata": {
        "colab": {
          "base_uri": "https://localhost:8080/"
        },
        "id": "TNZB17bphSAL",
        "outputId": "d43a793e-bea6-412c-a7bc-7ba2b154bb94"
      },
      "execution_count": null,
      "outputs": [
        {
          "output_type": "stream",
          "name": "stdout",
          "text": [
            "+----+---------+------------+----------+------+------------+----------+-------------+\n",
            "| MPG|Cylinders|Displacement|Horsepower|Weight|Acceleration|Model Year|Origin_OneHot|\n",
            "+----+---------+------------+----------+------+------------+----------+-------------+\n",
            "|18.0|        8|       307.0|     130.0|3504.0|        12.0|        70|(3,[0],[1.0])|\n",
            "|15.0|        8|       350.0|     165.0|3693.0|        11.5|        70|(3,[0],[1.0])|\n",
            "|18.0|        8|       318.0|     150.0|3436.0|        11.0|        70|(3,[0],[1.0])|\n",
            "|16.0|        8|       304.0|     150.0|3433.0|        12.0|        70|(3,[0],[1.0])|\n",
            "|17.0|        8|       302.0|     140.0|3449.0|        10.5|        70|(3,[0],[1.0])|\n",
            "|15.0|        8|       429.0|     198.0|4341.0|        10.0|        70|(3,[0],[1.0])|\n",
            "|14.0|        8|       454.0|     220.0|4354.0|         9.0|        70|(3,[0],[1.0])|\n",
            "|14.0|        8|       440.0|     215.0|4312.0|         8.5|        70|(3,[0],[1.0])|\n",
            "|14.0|        8|       455.0|     225.0|4425.0|        10.0|        70|(3,[0],[1.0])|\n",
            "|15.0|        8|       390.0|     190.0|3850.0|         8.5|        70|(3,[0],[1.0])|\n",
            "|15.0|        8|       383.0|     170.0|3563.0|        10.0|        70|(3,[0],[1.0])|\n",
            "|14.0|        8|       340.0|     160.0|3609.0|         8.0|        70|(3,[0],[1.0])|\n",
            "|15.0|        8|       400.0|     150.0|3761.0|         9.5|        70|(3,[0],[1.0])|\n",
            "|14.0|        8|       455.0|     225.0|3086.0|        10.0|        70|(3,[0],[1.0])|\n",
            "|24.0|        4|       113.0|      95.0|2372.0|        15.0|        70|(3,[1],[1.0])|\n",
            "|22.0|        6|       198.0|      95.0|2833.0|        15.5|        70|(3,[0],[1.0])|\n",
            "|18.0|        6|       199.0|      97.0|2774.0|        15.5|        70|(3,[0],[1.0])|\n",
            "|21.0|        6|       200.0|      85.0|2587.0|        16.0|        70|(3,[0],[1.0])|\n",
            "|27.0|        4|        97.0|      88.0|2130.0|        14.5|        70|(3,[1],[1.0])|\n",
            "|26.0|        4|        97.0|      46.0|1835.0|        20.5|        70|(3,[2],[1.0])|\n",
            "+----+---------+------------+----------+------+------------+----------+-------------+\n",
            "only showing top 20 rows\n",
            "\n"
          ]
        }
      ]
    },
    {
      "cell_type": "markdown",
      "source": [
        "After one-hot encoding we want to explode the one-hot column into the format described that was presented previously:\n",
        "\n",
        " USA | Europe | Japen \n",
        "-----|--------|------\n",
        "  0  |   1    |  0   "
      ],
      "metadata": {
        "id": "YtsUXscdn6tM"
      }
    },
    {
      "cell_type": "code",
      "source": [
        "# Converts the vector notation to array\n",
        "df = df.select('*', vector_to_array(\"Origin_OneHot\").alias(\"Origin_OneHot_Vector\"))\n",
        "df = df.drop(\"Origin_OneHot\") # Clean up the old column\n",
        "\n",
        "df.show()"
      ],
      "metadata": {
        "colab": {
          "base_uri": "https://localhost:8080/"
        },
        "id": "iVjqZJ7QoSgi",
        "outputId": "65000743-0542-4403-df6f-4fbd727f9fd8"
      },
      "execution_count": null,
      "outputs": [
        {
          "output_type": "stream",
          "name": "stdout",
          "text": [
            "+----+---------+------------+----------+------+------------+----------+--------------------+\n",
            "| MPG|Cylinders|Displacement|Horsepower|Weight|Acceleration|Model Year|Origin_OneHot_Vector|\n",
            "+----+---------+------------+----------+------+------------+----------+--------------------+\n",
            "|18.0|        8|       307.0|     130.0|3504.0|        12.0|        70|     [1.0, 0.0, 0.0]|\n",
            "|15.0|        8|       350.0|     165.0|3693.0|        11.5|        70|     [1.0, 0.0, 0.0]|\n",
            "|18.0|        8|       318.0|     150.0|3436.0|        11.0|        70|     [1.0, 0.0, 0.0]|\n",
            "|16.0|        8|       304.0|     150.0|3433.0|        12.0|        70|     [1.0, 0.0, 0.0]|\n",
            "|17.0|        8|       302.0|     140.0|3449.0|        10.5|        70|     [1.0, 0.0, 0.0]|\n",
            "|15.0|        8|       429.0|     198.0|4341.0|        10.0|        70|     [1.0, 0.0, 0.0]|\n",
            "|14.0|        8|       454.0|     220.0|4354.0|         9.0|        70|     [1.0, 0.0, 0.0]|\n",
            "|14.0|        8|       440.0|     215.0|4312.0|         8.5|        70|     [1.0, 0.0, 0.0]|\n",
            "|14.0|        8|       455.0|     225.0|4425.0|        10.0|        70|     [1.0, 0.0, 0.0]|\n",
            "|15.0|        8|       390.0|     190.0|3850.0|         8.5|        70|     [1.0, 0.0, 0.0]|\n",
            "|15.0|        8|       383.0|     170.0|3563.0|        10.0|        70|     [1.0, 0.0, 0.0]|\n",
            "|14.0|        8|       340.0|     160.0|3609.0|         8.0|        70|     [1.0, 0.0, 0.0]|\n",
            "|15.0|        8|       400.0|     150.0|3761.0|         9.5|        70|     [1.0, 0.0, 0.0]|\n",
            "|14.0|        8|       455.0|     225.0|3086.0|        10.0|        70|     [1.0, 0.0, 0.0]|\n",
            "|24.0|        4|       113.0|      95.0|2372.0|        15.0|        70|     [0.0, 1.0, 0.0]|\n",
            "|22.0|        6|       198.0|      95.0|2833.0|        15.5|        70|     [1.0, 0.0, 0.0]|\n",
            "|18.0|        6|       199.0|      97.0|2774.0|        15.5|        70|     [1.0, 0.0, 0.0]|\n",
            "|21.0|        6|       200.0|      85.0|2587.0|        16.0|        70|     [1.0, 0.0, 0.0]|\n",
            "|27.0|        4|        97.0|      88.0|2130.0|        14.5|        70|     [0.0, 1.0, 0.0]|\n",
            "|26.0|        4|        97.0|      46.0|1835.0|        20.5|        70|     [0.0, 0.0, 1.0]|\n",
            "+----+---------+------------+----------+------+------------+----------+--------------------+\n",
            "only showing top 20 rows\n",
            "\n"
          ]
        }
      ]
    },
    {
      "cell_type": "code",
      "source": [
        "# Explodes the array into individual column\n",
        "num_class = len(df.first()[\"Origin_OneHot_Vector\"])\n",
        "cols_expanded = [(F.col(\"Origin_OneHot_Vector\")[i].alias(f\"{origin_indexer_fitted.labels[i]}\")) for i in range(num_class)]\n",
        "\n",
        "df = df.select(\"*\", *cols_expanded)\n",
        "df = df.drop(\"Origin_OneHot_Vector\")  # Clean up the old column\n",
        "df.show()"
      ],
      "metadata": {
        "colab": {
          "base_uri": "https://localhost:8080/"
        },
        "id": "lNQUhLkH7F5y",
        "outputId": "e1757c79-c29d-4c1a-855d-9662252d915a"
      },
      "execution_count": null,
      "outputs": [
        {
          "output_type": "stream",
          "name": "stdout",
          "text": [
            "+----+---------+------------+----------+------+------------+----------+---+-----+------+\n",
            "| MPG|Cylinders|Displacement|Horsepower|Weight|Acceleration|Model Year|USA|Japan|Europe|\n",
            "+----+---------+------------+----------+------+------------+----------+---+-----+------+\n",
            "|18.0|        8|       307.0|     130.0|3504.0|        12.0|        70|1.0|  0.0|   0.0|\n",
            "|15.0|        8|       350.0|     165.0|3693.0|        11.5|        70|1.0|  0.0|   0.0|\n",
            "|18.0|        8|       318.0|     150.0|3436.0|        11.0|        70|1.0|  0.0|   0.0|\n",
            "|16.0|        8|       304.0|     150.0|3433.0|        12.0|        70|1.0|  0.0|   0.0|\n",
            "|17.0|        8|       302.0|     140.0|3449.0|        10.5|        70|1.0|  0.0|   0.0|\n",
            "|15.0|        8|       429.0|     198.0|4341.0|        10.0|        70|1.0|  0.0|   0.0|\n",
            "|14.0|        8|       454.0|     220.0|4354.0|         9.0|        70|1.0|  0.0|   0.0|\n",
            "|14.0|        8|       440.0|     215.0|4312.0|         8.5|        70|1.0|  0.0|   0.0|\n",
            "|14.0|        8|       455.0|     225.0|4425.0|        10.0|        70|1.0|  0.0|   0.0|\n",
            "|15.0|        8|       390.0|     190.0|3850.0|         8.5|        70|1.0|  0.0|   0.0|\n",
            "|15.0|        8|       383.0|     170.0|3563.0|        10.0|        70|1.0|  0.0|   0.0|\n",
            "|14.0|        8|       340.0|     160.0|3609.0|         8.0|        70|1.0|  0.0|   0.0|\n",
            "|15.0|        8|       400.0|     150.0|3761.0|         9.5|        70|1.0|  0.0|   0.0|\n",
            "|14.0|        8|       455.0|     225.0|3086.0|        10.0|        70|1.0|  0.0|   0.0|\n",
            "|24.0|        4|       113.0|      95.0|2372.0|        15.0|        70|0.0|  1.0|   0.0|\n",
            "|22.0|        6|       198.0|      95.0|2833.0|        15.5|        70|1.0|  0.0|   0.0|\n",
            "|18.0|        6|       199.0|      97.0|2774.0|        15.5|        70|1.0|  0.0|   0.0|\n",
            "|21.0|        6|       200.0|      85.0|2587.0|        16.0|        70|1.0|  0.0|   0.0|\n",
            "|27.0|        4|        97.0|      88.0|2130.0|        14.5|        70|0.0|  1.0|   0.0|\n",
            "|26.0|        4|        97.0|      46.0|1835.0|        20.5|        70|0.0|  0.0|   1.0|\n",
            "+----+---------+------------+----------+------+------------+----------+---+-----+------+\n",
            "only showing top 20 rows\n",
            "\n"
          ]
        }
      ]
    },
    {
      "cell_type": "markdown",
      "source": [
        "The last step in data preparation is condense all the individual feature columns into a single **Features** column. "
      ],
      "metadata": {
        "id": "t9bQ3VOEJMV6"
      }
    },
    {
      "cell_type": "code",
      "source": [
        "features_col = [\"Cylinders\", \"Displacement\", \"Horsepower\", \"Weight\",\n",
        "                \"Acceleration\", \"Model Year\", \"USA\", \"Japan\", \"Europe\"]\n",
        "\n",
        "vector_assembler = VectorAssembler(inputCols=features_col, outputCol=\"Features\")\n",
        "df_ml = vector_assembler.transform(df)\n",
        "df_ml = df_ml.select([\"Features\", \"MPG\"])\n",
        "df_ml.show(3)"
      ],
      "metadata": {
        "colab": {
          "base_uri": "https://localhost:8080/"
        },
        "id": "PKlx25DuJiJh",
        "outputId": "1c9e8e06-9fc2-4c5b-cc6e-ab8bde7216b4"
      },
      "execution_count": null,
      "outputs": [
        {
          "output_type": "stream",
          "name": "stdout",
          "text": [
            "+--------------------+----+\n",
            "|            Features| MPG|\n",
            "+--------------------+----+\n",
            "|[8.0,307.0,130.0,...|18.0|\n",
            "|[8.0,350.0,165.0,...|15.0|\n",
            "|[8.0,318.0,150.0,...|18.0|\n",
            "+--------------------+----+\n",
            "only showing top 3 rows\n",
            "\n"
          ]
        }
      ]
    },
    {
      "cell_type": "markdown",
      "source": [
        "## Train the Model\n",
        "At this point, the dataset is cleaned and ready to be used in training."
      ],
      "metadata": {
        "id": "MK-4HOpPHm_6"
      }
    },
    {
      "cell_type": "code",
      "source": [
        "# Split the dataset into training and test set\n",
        "splits = df_ml.randomSplit([0.7, 0.3])\n",
        "train_df = splits[0]\n",
        "test_df = splits[1]"
      ],
      "metadata": {
        "id": "TS5kXclXHwV8"
      },
      "execution_count": null,
      "outputs": []
    },
    {
      "cell_type": "code",
      "source": [
        "# Train the model\n",
        "lr = LinearRegression(featuresCol=\"Features\", labelCol=\"MPG\", maxIter=10, regParam=0.3, elasticNetParam=0.8, solver=\"normal\")\n",
        "lr_model = lr.fit(train_df)\n",
        "\n",
        "print(\"Coefficients: \" + str(lr_model.coefficients))\n",
        "print(\"Intercept: \" + str(lr_model.intercept))"
      ],
      "metadata": {
        "colab": {
          "base_uri": "https://localhost:8080/"
        },
        "id": "mN6fVs_KIs_a",
        "outputId": "96069cf2-c178-4caa-9ae9-cefe23f5f826"
      },
      "execution_count": null,
      "outputs": [
        {
          "output_type": "stream",
          "name": "stdout",
          "text": [
            "Coefficients: [-0.27598848582287533,0.0,-0.025860170807309374,-0.004052156755356032,0.0,0.7099642180636758,-1.0738335574042681,0.8442398631833453,0.0]\n",
            "Intercept: -13.599886568971387\n"
          ]
        }
      ]
    },
    {
      "cell_type": "markdown",
      "source": [
        "After the model is trained we can use it to make predictions"
      ],
      "metadata": {
        "id": "a1r1r8RdNufN"
      }
    },
    {
      "cell_type": "markdown",
      "source": [
        "The training set predictions:"
      ],
      "metadata": {
        "id": "lwQw6wepNdin"
      }
    },
    {
      "cell_type": "code",
      "source": [
        "train_predictions = lr_model.transform(train_df)\n",
        "train_predictions.show()\n"
      ],
      "metadata": {
        "colab": {
          "base_uri": "https://localhost:8080/"
        },
        "id": "bSSrzo_bMjLO",
        "outputId": "3746c83e-86e8-48d6-de41-8549a1cd2fc8"
      },
      "execution_count": null,
      "outputs": [
        {
          "output_type": "stream",
          "name": "stdout",
          "text": [
            "+--------------------+----+------------------+\n",
            "|            Features| MPG|        prediction|\n",
            "+--------------------+----+------------------+\n",
            "|[4.0,68.0,49.0,18...|29.0| 28.29102237457758|\n",
            "|[4.0,71.0,65.0,18...|32.0|29.557080582323685|\n",
            "|[4.0,76.0,52.0,16...|31.0| 30.65101611607028|\n",
            "|[4.0,79.0,67.0,19...|31.0|29.043414370598477|\n",
            "|[4.0,79.0,67.0,19...|26.0|28.146496469595505|\n",
            "|[4.0,83.0,61.0,20...|32.0| 28.98381108740847|\n",
            "|[4.0,85.0,52.0,20...|29.0|28.588738624042605|\n",
            "|[4.0,88.0,76.0,20...|30.0|25.370542289092377|\n",
            "|[4.0,90.0,70.0,19...|29.0|28.884236250876505|\n",
            "|[4.0,90.0,71.0,22...|25.0| 27.69945924803737|\n",
            "|[4.0,90.0,75.0,21...|24.0|27.352052373610405|\n",
            "|[4.0,90.0,75.0,21...|28.0|26.209332151365082|\n",
            "|[4.0,91.0,53.0,17...|33.0| 31.45346949510835|\n",
            "|[4.0,91.0,70.0,19...|26.0|24.897606999621132|\n",
            "|[4.0,97.0,46.0,18...|26.0| 26.36837924897987|\n",
            "|[4.0,97.0,46.0,19...|26.0|28.032273876304956|\n",
            "|[4.0,97.0,54.0,22...|23.0| 25.88357263815457|\n",
            "|[4.0,97.0,60.0,18...|27.0| 26.72035323249657|\n",
            "|[4.0,97.0,75.0,21...|29.0|28.650970579269995|\n",
            "|[4.0,97.0,78.0,23...|26.0|26.496457764160112|\n",
            "+--------------------+----+------------------+\n",
            "only showing top 20 rows\n",
            "\n"
          ]
        }
      ]
    },
    {
      "cell_type": "markdown",
      "source": [
        "The test set predictions:"
      ],
      "metadata": {
        "id": "qjcJcJP3Njvg"
      }
    },
    {
      "cell_type": "code",
      "source": [
        "test_predictions = lr_model.transform(test_df)\n",
        "test_predictions.show()"
      ],
      "metadata": {
        "colab": {
          "base_uri": "https://localhost:8080/"
        },
        "id": "KDeQePgRNlNy",
        "outputId": "70394351-9b19-4853-eb90-2b6f214c3b87"
      },
      "execution_count": null,
      "outputs": [
        {
          "output_type": "stream",
          "name": "stdout",
          "text": [
            "+--------------------+----+------------------+\n",
            "|            Features| MPG|        prediction|\n",
            "+--------------------+----+------------------+\n",
            "|[3.0,70.0,90.0,21...|18.0|  27.3095794343576|\n",
            "|[3.0,70.0,97.0,23...|19.0| 25.58384972903943|\n",
            "|[4.0,71.0,65.0,17...|31.0|27.682473803720093|\n",
            "|[4.0,72.0,69.0,16...|35.0| 28.22737820134782|\n",
            "|[4.0,79.0,67.0,20...|31.0|27.996566669647336|\n",
            "|[4.0,79.0,70.0,20...|30.0| 25.48923390313803|\n",
            "|[4.0,90.0,70.0,19...|29.0|29.594200468940187|\n",
            "|[4.0,91.0,53.0,17...|33.0| 30.74350527704467|\n",
            "|[4.0,96.0,69.0,21...|26.0|25.759060265143077|\n",
            "|[4.0,97.0,88.0,21...|27.0|26.472598834214224|\n",
            "|[4.0,97.0,88.0,21...|27.0| 24.93110569542619|\n",
            "|[4.0,98.0,80.0,21...|28.0|  24.5020687477423|\n",
            "|[4.0,101.0,83.0,2...|27.0| 28.18419670827582|\n",
            "|[4.0,110.0,87.0,2...|25.0| 21.91645704164719|\n",
            "|[4.0,113.0,95.0,2...|25.0|25.062937355813816|\n",
            "|[4.0,114.0,91.0,2...|20.0| 24.30760312059102|\n",
            "|[4.0,115.0,95.0,2...|23.0|25.170249316889254|\n",
            "|[4.0,119.0,97.0,2...|24.0|26.566540195006034|\n",
            "|[4.0,120.0,87.0,2...|21.0| 22.09237335388024|\n",
            "|[4.0,120.0,88.0,2...|23.0|24.285553285881782|\n",
            "+--------------------+----+------------------+\n",
            "only showing top 20 rows\n",
            "\n"
          ]
        }
      ]
    },
    {
      "cell_type": "markdown",
      "source": [
        "Now we can evaulate our model using the RegressionEvaluator"
      ],
      "metadata": {
        "id": "oauv2zdiMhLU"
      }
    },
    {
      "cell_type": "code",
      "source": [
        "evaluator = RegressionEvaluator(predictionCol=\"prediction\", \\\n",
        "                 labelCol=\"MPG\", metricName=\"r2\")\n",
        "\n",
        "print(\"Train R2:\", evaluator.evaluate(train_predictions))\n",
        "print(\"Test R2:\", evaluator.evaluate(test_predictions))"
      ],
      "metadata": {
        "colab": {
          "base_uri": "https://localhost:8080/"
        },
        "id": "wsa43y2eNVek",
        "outputId": "2cf561f7-d294-41a7-80f3-808820de1cc3"
      },
      "execution_count": null,
      "outputs": [
        {
          "output_type": "stream",
          "name": "stdout",
          "text": [
            "Train R2: 0.8075420726689316\n",
            "Test R2: 0.818453171334369\n"
          ]
        }
      ]
    }
  ]
}